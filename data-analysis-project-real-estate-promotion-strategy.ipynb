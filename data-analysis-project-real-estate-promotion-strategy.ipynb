{
 "cells": [
  {
   "cell_type": "markdown",
   "id": "dab1a239",
   "metadata": {},
   "source": [
    "# Real Estate Listing Promotion Strategy\n",
    "\n",
    "This project simulates a real-world data analysis scenario for Nova Holdings, a leading real estate agency in the US managing tens of thousands of listings annually. As a Data Analyst, the goal was to develop a data-driven promotional strategy for showcasing 1,000 property listings on Zillow—America’s top real estate platform—out of a total inventory of 10,000 listings set to be sold in the upcoming six months.\n",
    "\n",
    "Key Analytical Questions:\n",
    "- Top 10 Sought-After Locations, based on search patterns and consumer demand.\n",
    "- Top 10 Locations for Investment, based on profitability, growth trends, and relative value.\n",
    "- Zillow Slot Allocation Strategy:\n",
    "\n",
    "a. Prioritize listings based on search interest, consumer leads, and property value. Select the top 50 listings to promote, justifying their inclusion.\n",
    "\n",
    "b. Define de-prioritization criteria for when a listing should be removed from promotion."
   ]
  },
  {
   "cell_type": "markdown",
   "id": "e1978c2a",
   "metadata": {},
   "source": [
    "## Step 1: Load the data\n",
    "\n",
    "Loaded data from all three sheets and created copies of it."
   ]
  },
  {
   "cell_type": "code",
   "execution_count": 1,
   "id": "c498d31f",
   "metadata": {},
   "outputs": [],
   "source": [
    "import pandas as pd\n",
    "import matplotlib.pyplot as plt\n",
    "\n",
    "xls = pd.ExcelFile(\"dataset.xlsx\")\n",
    "\n",
    "traffic_df = xls.parse(\"traffic\")\n",
    "leads_df = xls.parse(\"leads\")\n",
    "inventory_df = xls.parse(\"inventory\")\n",
    "\n",
    "traffic = traffic_df.copy()\n",
    "leads = leads_df.copy()\n",
    "inventory = inventory_df.copy()"
   ]
  },
  {
   "cell_type": "markdown",
   "id": "d3a1b01e",
   "metadata": {},
   "source": [
    "## Step 2: Clean the data"
   ]
  },
  {
   "cell_type": "code",
   "execution_count": 2,
   "id": "cbd6a31d",
   "metadata": {},
   "outputs": [],
   "source": [
    "traffic.drop_duplicates(inplace=True)\n",
    "leads.drop_duplicates(inplace=True)"
   ]
  },
  {
   "cell_type": "markdown",
   "id": "d4acf800",
   "metadata": {},
   "source": [
    "## Step 3: Create a unified 'Location' column\n",
    "Created a unified Location column from City, Neighborhood, and Section for joining and analysis. At the same time, handled the missing Neighborhood and Section values."
   ]
  },
  {
   "cell_type": "code",
   "execution_count": 3,
   "id": "7e943bf9",
   "metadata": {},
   "outputs": [],
   "source": [
    "for df in [traffic, leads, inventory]:\n",
    "    df['Neighborhood'] = df['Neighborhood'].fillna('')\n",
    "    df['Section'] = df['Section'].fillna('')\n",
    "    df['Location'] = df['City'] + ', ' + df['Neighborhood'] + ', ' + df['Section']\n",
    "    df['Location'] = df['Location'].str.replace(', ,', ',').str.strip(', ')"
   ]
  },
  {
   "cell_type": "markdown",
   "id": "45e5cefc",
   "metadata": {},
   "source": [
    "## Task 1a: Top 10 most searched locations\n",
    "Compute the total searches per Location. The cell agregates the total searches for each Location, sorts them in descending order\n",
    "and picks the top 10."
   ]
  },
  {
   "cell_type": "code",
   "execution_count": 4,
   "id": "1f640e2f",
   "metadata": {},
   "outputs": [
    {
     "name": "stdout",
     "output_type": "stream",
     "text": [
      "Top 10 most searched locations:\n",
      "Location\n",
      "New York        10024\n",
      "Los Angeles      9004\n",
      "Chicago          5289\n",
      "Miami            5036\n",
      "Houston          4478\n",
      "Dallas           4204\n",
      "Philadelphia     3409\n",
      "Atlanta          3268\n",
      "Boston           2634\n",
      "Detroit          2246\n",
      "Name: Searches, dtype: int64\n"
     ]
    }
   ],
   "source": [
    "location_searches = traffic.groupby('Location')['Searches'].sum()\n",
    "top_10_locations = location_searches.sort_values(ascending=False).head(10)\n",
    "print(\"Top 10 most searched locations:\")\n",
    "print(top_10_locations)"
   ]
  },
  {
   "cell_type": "markdown",
   "id": "f9380b30",
   "metadata": {},
   "source": [
    "### Plot for the top 10 Most Searched Locations"
   ]
  },
  {
   "cell_type": "code",
   "execution_count": 5,
   "id": "33f1fa97",
   "metadata": {},
   "outputs": [
    {
     "data": {
      "image/png": "[encoded data removed]",
      "text/plain": [
       "<Figure size 720x432 with 1 Axes>"
      ]
     },
     "metadata": {
      "needs_background": "light"
     },
     "output_type": "display_data"
    }
   ],
   "source": [
    "plt.figure(figsize=(10,6))\n",
    "top_10_locations.sort_values().plot(kind='barh', color='skyblue')\n",
    "plt.title('Top 10 Most Searched Locations')\n",
    "plt.xlabel('Total Searches')\n",
    "plt.ylabel('Location')\n",
    "plt.grid(axis='x')\n",
    "plt.show()"
   ]
  },
  {
   "cell_type": "markdown",
   "id": "62c655f8",
   "metadata": {},
   "source": [
    "## Task 1b: Normalize searches by Inventory Count\n",
    "\n",
    "I also computed the search demand per listing to identify locations where each listing receives the highest attention from users. This helped ensure that we do not just focus on total volume, but also on efficiency of promotion slot usage.\n",
    "\n",
    "First, we count the number of listings per Location, then get the total searches per Location. After that we merge the data frames and compute the normalized value. The normalized seach is computed by the sum of all user searches associated with that location devided by the number of properties in the inventory that belong to that location. We pick the top 10 results."
   ]
  },
  {
   "cell_type": "code",
   "execution_count": 6,
   "id": "60ae1647",
   "metadata": {},
   "outputs": [
    {
     "name": "stdout",
     "output_type": "stream",
     "text": [
      "           Location  Searches_per_Listing\n",
      "1396       New York               5012.00\n",
      "777         Houston               4478.00\n",
      "488          Dallas               4204.00\n",
      "1737      Riverside               1843.00\n",
      "312         Chicago               1322.25\n",
      "2072          Tampa               1009.00\n",
      "1019    Los Angeles               1000.44\n",
      "577          Denver                973.50\n",
      "867    Indianapolis                860.50\n",
      "1865  San Francisco                686.33\n"
     ]
    }
   ],
   "source": [
    "listing_count = inventory.groupby('Location')['Listing iD'].count().reset_index()\n",
    "listing_count.rename(columns={'Listing iD': 'Listing_Count'}, inplace=True)\n",
    "\n",
    "total_searches = traffic.groupby('Location')['Searches'].sum().reset_index()\n",
    "\n",
    "searches_normalized = total_searches.merge(listing_count, on='Location', how='left')\n",
    "\n",
    "searches_normalized['Searches_per_Listing'] = (searches_normalized['Searches'] / searches_normalized['Listing_Count']).round(2)\n",
    "\n",
    "top_normalized = searches_normalized.sort_values(by='Searches_per_Listing', ascending=False).head(10)\n",
    "print(top_normalized[['Location', 'Searches_per_Listing']])"
   ]
  },
  {
   "cell_type": "markdown",
   "id": "9f053afa",
   "metadata": {},
   "source": [
    "### Plot Normalize searches by Inventory Count"
   ]
  },
  {
   "cell_type": "code",
   "execution_count": 7,
   "id": "890b2546",
   "metadata": {},
   "outputs": [
    {
     "data": {
      "image/png": "[encoded data removed]",
      "text/plain": [
       "<Figure size 720x432 with 1 Axes>"
      ]
     },
     "metadata": {
      "needs_background": "light"
     },
     "output_type": "display_data"
    }
   ],
   "source": [
    "top_normalized.set_index('Location')['Searches_per_Listing'].plot(kind='barh', figsize=(10, 6), color='skyblue')\n",
    "plt.xlabel(\"Searches per Listing\")\n",
    "plt.title(\"Top 10 Locations by Search Demand per Listing\")\n",
    "plt.gca().invert_yaxis()\n",
    "plt.tight_layout()\n",
    "plt.show()"
   ]
  },
  {
   "cell_type": "markdown",
   "id": "5c7be40c",
   "metadata": {},
   "source": [
    "## Task 2: Top 10 investment opportunities\n",
    "\n",
    "First, we filter the data for-sales listisgs. After that we compute the average price per Location and sum the toal leads per Location. We merge the data and compute the investment score. The investment score is calcultates as:\n",
    "\n",
    "Investment Score = Total Leads per Location / (Average Price per Location / 100,000)\n",
    "\n",
    "This gives you the number of leads generated per $100K of price. Finally, we format the results and display the top 10 investment locations. "
   ]
  },
  {
   "cell_type": "code",
   "execution_count": 8,
   "id": "4900f38d",
   "metadata": {},
   "outputs": [
    {
     "name": "stdout",
     "output_type": "stream",
     "text": [
      "\n",
      "Top 10 investment locations:\n",
      "                           Location   Price  Leads  Investment Score Price (Formatted)\n",
      "              Bronx, Kent, Red Lake  422500   1756        415.621302          $422,500\n",
      "         Columbus, East Los Angeles  972000   3598        370.164609          $972,000\n",
      "                Phoenix, South Lyon  420000   1326        315.714286          $420,000\n",
      "              San Jose, Miami Beach  360000   1015        281.944444          $360,000\n",
      "          Indianapolis, Bloomington  886250   2397        270.465521          $886,250\n",
      "  Los Angeles, Texas City, Rockvale  607222   1352        222.653370          $607,222\n",
      "Columbus, Iowa City, Rehoboth Beach 1744533   3685        211.231358        $1,744,533\n",
      "  Memphis, Lewisville, Spencerville 1008729   1881        186.472320        $1,008,729\n",
      "                     San Juan, Troy  265000    477        180.000000          $265,000\n",
      "             Las Vegas, Westminster  441977    779        176.253356          $441,977\n"
     ]
    }
   ],
   "source": [
    "inventory_sale = inventory[inventory[\"Purpose\"] == \"for-sale\"]\n",
    "leads_sale = leads[leads[\"Purpose\"] == \"for-sale\"]\n",
    "\n",
    "avg_price_by_location = inventory_sale.groupby(\"Location\")[\"Price\"].mean().reset_index()\n",
    "\n",
    "leads_by_location = leads_sale.groupby(\"Location\")[\"Leads\"].sum().reset_index()\n",
    "\n",
    "investment_df = pd.merge(avg_price_by_location, leads_by_location, on=\"Location\")\n",
    "\n",
    "investment_df[\"Investment Score\"] = investment_df[\"Leads\"] / (investment_df[\"Price\"] / 100000)\n",
    "\n",
    "investment_df[\"Price\"] = investment_df[\"Price\"].round(0).astype(int)\n",
    "investment_df[\"Price (Formatted)\"] = investment_df[\"Price\"].apply(lambda x: f\"${x:,.0f}\")\n",
    "\n",
    "top_10_investments = investment_df.sort_values(by=\"Investment Score\", ascending=False).head(10)\n",
    "print(\"\\nTop 10 investment locations:\")\n",
    "print(top_10_investments.to_string(index=False))"
   ]
  },
  {
   "cell_type": "markdown",
   "id": "0392693d",
   "metadata": {},
   "source": [
    "### Plot for the Top 10 investment locations"
   ]
  },
  {
   "cell_type": "code",
   "execution_count": 9,
   "id": "d13e96bd",
   "metadata": {},
   "outputs": [
    {
     "data": {
      "image/png": "[encoded data removed]",
      "text/plain": [
       "<Figure size 720x432 with 1 Axes>"
      ]
     },
     "metadata": {
      "needs_background": "light"
     },
     "output_type": "display_data"
    }
   ],
   "source": [
    "plt.figure(figsize=(10,6))\n",
    "plt.barh(top_10_investments['Location'], top_10_investments['Investment Score'], color='seagreen')\n",
    "plt.title('Top 10 Investment Opportunities by Investment Score')\n",
    "plt.xlabel('Investment Score (Leads per $100K)')\n",
    "plt.ylabel('Location')\n",
    "plt.grid(axis='x')\n",
    "plt.show()"
   ]
  },
  {
   "cell_type": "markdown",
   "id": "1ae3f18e",
   "metadata": {},
   "source": [
    "## Task 3a: Select top 50 listings to promote\n",
    "\n",
    "First, we filtered the data for for-sale listings, aggregated leads and searches by Location. Merged those insights into the listing-level inventory data and handled missing values. Finally, sort listings by most leads, then most searches, then lowest price and return the top 50 listings for promotion."
   ]
  },
  {
   "cell_type": "code",
   "execution_count": 10,
   "id": "e0405f64",
   "metadata": {},
   "outputs": [
    {
     "name": "stdout",
     "output_type": "stream",
     "text": [
      "\n",
      "Top 50 listings for promotion:\n",
      "      Listing iD   Purpose     Price  Bedroom Count Country           City  \\\n",
      "4920        6450  for-sale    742000              1      US  San Francisco   \n",
      "2190        2796  for-sale   1100000              2      US  San Francisco   \n",
      "6934        9284  for-sale   1400000              3      US  San Francisco   \n",
      "7246        9722  for-sale  19676693              3      US      Manhattan   \n",
      "367          468  for-sale    365000              0      US          Bronx   \n",
      "4540        5942  for-sale    480000              0      US          Bronx   \n",
      "365          465  for-sale    340000              1      US       San Juan   \n",
      "2957        3824  for-sale    365000              1      US    Los Angeles   \n",
      "7118        9541  for-sale    400000              1      US    Los Angeles   \n",
      "3673        4765  for-sale    410000              1      US    Los Angeles   \n",
      "248          318  for-sale    549999              1      US    Los Angeles   \n",
      "964         1220  for-sale    685000              2      US    Los Angeles   \n",
      "5721        7632  for-sale    739999              2      US    Los Angeles   \n",
      "5014        6595  for-sale    750000              2      US    Los Angeles   \n",
      "6730        9019  for-sale    750000              2      US    Los Angeles   \n",
      "4767        6232  for-sale    814999              2      US    Los Angeles   \n",
      "7137        9570  for-sale    420000              1      US        Phoenix   \n",
      "4406        5755  for-sale    750000              3      US   Indianapolis   \n",
      "6064        8102  for-sale    799999              3      US   Indianapolis   \n",
      "7263        9740  for-sale    800000              3      US   Indianapolis   \n",
      "6066        8105  for-sale    820000              3      US   Indianapolis   \n",
      "4174        5424  for-sale    850000              3      US   Indianapolis   \n",
      "656          839  for-sale    870000              3      US   Indianapolis   \n",
      "1991        2539  for-sale   1099999              3      US   Indianapolis   \n",
      "3754        4875  for-sale   1100000              3      US   Indianapolis   \n",
      "1665        2117  for-sale    385000              0      US    Los Angeles   \n",
      "1142        1438  for-sale    420000              0      US    Los Angeles   \n",
      "2711        3487  for-sale    450000              0      US    Los Angeles   \n",
      "5854        7819  for-sale    455550              0      US    Los Angeles   \n",
      "849         1078  for-sale    722000              1      US    Los Angeles   \n",
      "3715        4826  for-sale    750000              1      US    Los Angeles   \n",
      "1349        1700  for-sale    825000              1      US    Los Angeles   \n",
      "6417        8582  for-sale   1299999              2      US       Columbus   \n",
      "7289        9773  for-sale   1349999              2      US       Columbus   \n",
      "4744        6206  for-sale   1350000              2      US       Columbus   \n",
      "7366        9888  for-sale   1350000              2      US       Columbus   \n",
      "7286        9768  for-sale   1379999              2      US       Columbus   \n",
      "2086        2664  for-sale   1450000              2      US       Columbus   \n",
      "5281        6992  for-sale   1450000              2      US       Columbus   \n",
      "7093        9502  for-sale   1500000              3      US       Columbus   \n",
      "1950        2482  for-sale   1530000              3      US       Columbus   \n",
      "2963        3830  for-sale   1549995              2      US       Columbus   \n",
      "3494        4515  for-sale   1549999              3      US       Columbus   \n",
      "3299        4273  for-sale   1550000              3      US       Columbus   \n",
      "7268        9745  for-sale   1550000              3      US       Columbus   \n",
      "7336        9846  for-sale   1550000              3      US       Columbus   \n",
      "5639        7511  for-sale   1558000              3      US       Columbus   \n",
      "137          181  for-sale   1560000              3      US       Columbus   \n",
      "3667        4758  for-sale   1599999              3      US       Columbus   \n",
      "192          244  for-sale   1600000              3      US       Columbus   \n",
      "\n",
      "     Neighborhood         Section                             Location  \\\n",
      "4920                                                     San Francisco   \n",
      "2190                                                     San Francisco   \n",
      "6934                                                     San Francisco   \n",
      "7246   Las Cruces                                Manhattan, Las Cruces   \n",
      "367          Kent        Red Lake                Bronx, Kent, Red Lake   \n",
      "4540         Kent        Red Lake                Bronx, Kent, Red Lake   \n",
      "365        Sparks                                     San Juan, Sparks   \n",
      "2957   Texas City        Rockvale    Los Angeles, Texas City, Rockvale   \n",
      "7118   Texas City        Rockvale    Los Angeles, Texas City, Rockvale   \n",
      "3673   Texas City        Rockvale    Los Angeles, Texas City, Rockvale   \n",
      "248    Texas City        Rockvale    Los Angeles, Texas City, Rockvale   \n",
      "964    Texas City        Rockvale    Los Angeles, Texas City, Rockvale   \n",
      "5721   Texas City        Rockvale    Los Angeles, Texas City, Rockvale   \n",
      "5014   Texas City        Rockvale    Los Angeles, Texas City, Rockvale   \n",
      "6730   Texas City        Rockvale    Los Angeles, Texas City, Rockvale   \n",
      "4767   Texas City        Rockvale    Los Angeles, Texas City, Rockvale   \n",
      "7137   South Lyon                                  Phoenix, South Lyon   \n",
      "4406  Bloomington                            Indianapolis, Bloomington   \n",
      "6064  Bloomington                            Indianapolis, Bloomington   \n",
      "7263  Bloomington                            Indianapolis, Bloomington   \n",
      "6066  Bloomington                            Indianapolis, Bloomington   \n",
      "4174  Bloomington                            Indianapolis, Bloomington   \n",
      "656   Bloomington                            Indianapolis, Bloomington   \n",
      "1991  Bloomington                            Indianapolis, Bloomington   \n",
      "3754  Bloomington                            Indianapolis, Bloomington   \n",
      "1665   Greenville                              Los Angeles, Greenville   \n",
      "1142   Greenville                              Los Angeles, Greenville   \n",
      "2711   Greenville                              Los Angeles, Greenville   \n",
      "5854   Greenville                              Los Angeles, Greenville   \n",
      "849    Greenville                              Los Angeles, Greenville   \n",
      "3715   Greenville                              Los Angeles, Greenville   \n",
      "1349   Greenville                              Los Angeles, Greenville   \n",
      "6417    Iowa City  Rehoboth Beach  Columbus, Iowa City, Rehoboth Beach   \n",
      "7289    Iowa City  Rehoboth Beach  Columbus, Iowa City, Rehoboth Beach   \n",
      "4744    Iowa City  Rehoboth Beach  Columbus, Iowa City, Rehoboth Beach   \n",
      "7366    Iowa City  Rehoboth Beach  Columbus, Iowa City, Rehoboth Beach   \n",
      "7286    Iowa City  Rehoboth Beach  Columbus, Iowa City, Rehoboth Beach   \n",
      "2086    Iowa City  Rehoboth Beach  Columbus, Iowa City, Rehoboth Beach   \n",
      "5281    Iowa City  Rehoboth Beach  Columbus, Iowa City, Rehoboth Beach   \n",
      "7093    Iowa City  Rehoboth Beach  Columbus, Iowa City, Rehoboth Beach   \n",
      "1950    Iowa City  Rehoboth Beach  Columbus, Iowa City, Rehoboth Beach   \n",
      "2963    Iowa City  Rehoboth Beach  Columbus, Iowa City, Rehoboth Beach   \n",
      "3494    Iowa City  Rehoboth Beach  Columbus, Iowa City, Rehoboth Beach   \n",
      "3299    Iowa City  Rehoboth Beach  Columbus, Iowa City, Rehoboth Beach   \n",
      "7268    Iowa City  Rehoboth Beach  Columbus, Iowa City, Rehoboth Beach   \n",
      "7336    Iowa City  Rehoboth Beach  Columbus, Iowa City, Rehoboth Beach   \n",
      "5639    Iowa City  Rehoboth Beach  Columbus, Iowa City, Rehoboth Beach   \n",
      "137     Iowa City  Rehoboth Beach  Columbus, Iowa City, Rehoboth Beach   \n",
      "3667    Iowa City  Rehoboth Beach  Columbus, Iowa City, Rehoboth Beach   \n",
      "192     Iowa City  Rehoboth Beach  Columbus, Iowa City, Rehoboth Beach   \n",
      "\n",
      "       Leads  Searches  \n",
      "4920  9960.0    2059.0  \n",
      "2190  9960.0    2059.0  \n",
      "6934  9960.0    2059.0  \n",
      "7246  9570.0     280.0  \n",
      "367   9408.0     335.0  \n",
      "4540  9408.0     335.0  \n",
      "365   7865.0      42.0  \n",
      "2957  7557.0     158.0  \n",
      "7118  7557.0     158.0  \n",
      "3673  7557.0     158.0  \n",
      "248   7557.0     158.0  \n",
      "964   7557.0     158.0  \n",
      "5721  7557.0     158.0  \n",
      "5014  7557.0     158.0  \n",
      "6730  7557.0     158.0  \n",
      "4767  7557.0     158.0  \n",
      "7137  7221.0     145.0  \n",
      "4406  7182.0     125.0  \n",
      "6064  7182.0     125.0  \n",
      "7263  7182.0     125.0  \n",
      "6066  7182.0     125.0  \n",
      "4174  7182.0     125.0  \n",
      "656   7182.0     125.0  \n",
      "1991  7182.0     125.0  \n",
      "3754  7182.0     125.0  \n",
      "1665  7022.0     219.0  \n",
      "1142  7022.0     219.0  \n",
      "2711  7022.0     219.0  \n",
      "5854  7022.0     219.0  \n",
      "849   7022.0     219.0  \n",
      "3715  7022.0     219.0  \n",
      "1349  7022.0     219.0  \n",
      "6417  5869.0      77.0  \n",
      "7289  5869.0      77.0  \n",
      "4744  5869.0      77.0  \n",
      "7366  5869.0      77.0  \n",
      "7286  5869.0      77.0  \n",
      "2086  5869.0      77.0  \n",
      "5281  5869.0      77.0  \n",
      "7093  5869.0      77.0  \n",
      "1950  5869.0      77.0  \n",
      "2963  5869.0      77.0  \n",
      "3494  5869.0      77.0  \n",
      "3299  5869.0      77.0  \n",
      "7268  5869.0      77.0  \n",
      "7336  5869.0      77.0  \n",
      "5639  5869.0      77.0  \n",
      "137   5869.0      77.0  \n",
      "3667  5869.0      77.0  \n",
      "192   5869.0      77.0  \n"
     ]
    }
   ],
   "source": [
    "for_sale_df = inventory[inventory[\"Purpose\"] == \"for-sale\"]\n",
    "\n",
    "leads_by_location = leads.groupby(\"Location\")[\"Leads\"].sum().reset_index()\n",
    "searches_by_location = traffic.groupby(\"Location\")[\"Searches\"].sum().reset_index()\n",
    "\n",
    "for_sale_df = for_sale_df.merge(leads_by_location, on=\"Location\", how=\"left\")\n",
    "for_sale_df = for_sale_df.merge(searches_by_location, on=\"Location\", how=\"left\")\n",
    "\n",
    "for_sale_df[[\"Leads\", \"Searches\"]] = for_sale_df[[\"Leads\", \"Searches\"]].fillna(0)\n",
    "\n",
    "top_1000 = for_sale_df.sort_values(by=[\"Leads\", \"Searches\", \"Price\"], ascending=[False, False, True]).head(1000)\n",
    "top_50 = top_1000.head(50)\n",
    "print(\"\\nTop 50 listings for promotion:\")\n",
    "print(top_50)"
   ]
  },
  {
   "cell_type": "markdown",
   "id": "d03fcf05",
   "metadata": {},
   "source": [
    "### Plot the Top 50 Listings"
   ]
  },
  {
   "cell_type": "code",
   "execution_count": 11,
   "id": "f19d6a2e",
   "metadata": {},
   "outputs": [
    {
     "data": {
      "image/png": "[encoded data removed]",
      "text/plain": [
       "<Figure size 720x432 with 1 Axes>"
      ]
     },
     "metadata": {
      "needs_background": "light"
     },
     "output_type": "display_data"
    }
   ],
   "source": [
    "plt.figure(figsize=(10,6))\n",
    "plt.scatter(top_50['Price'], top_50['Leads'], alpha=0.7, c='orange', edgecolors='k')\n",
    "plt.xscale('log')  # Apply log scale\n",
    "plt.title('Top 50 Listings: Leads vs Price (Log Scale)')\n",
    "plt.xlabel('Price ($, log scale)')\n",
    "plt.ylabel('Leads')\n",
    "plt.grid(True, which='both', linestyle='--', linewidth=0.5)\n",
    "plt.tight_layout()\n",
    "plt.show()"
   ]
  },
  {
   "cell_type": "markdown",
   "id": "623130a3",
   "metadata": {},
   "source": [
    "## Task 3b: Define listings to remove from promotion\n",
    "\n",
    "First, we compute the average price per Location. After that, we defined 3 rules for removing listings from the promotion pool: Listing shows no real intent, no visibility or it's likely overpriced for its market (Price > 1.5 × local avg). Finally, we combined the rules, filterd the listigns that should be removed and displayed the results."
   ]
  },
  {
   "cell_type": "code",
   "execution_count": 12,
   "id": "8c4303c9",
   "metadata": {},
   "outputs": [
    {
     "name": "stdout",
     "output_type": "stream",
     "text": [
      "\n",
      "Number of listings that should be removed: 87\n",
      "      Listing iD                             Location     Price   Leads  \\\n",
      "5533        7349  Columbus, Iowa City, Rehoboth Beach   3350000  5869.0   \n",
      "1222        1543  Columbus, Iowa City, Rehoboth Beach   3399000  5869.0   \n",
      "165          213                          Los Angeles  10000000  5511.0   \n",
      "173          223                 Chicago, Centreville   2100000  5502.0   \n",
      "914         1158                 Chicago, Centreville   2299000  5502.0   \n",
      "...          ...                                  ...       ...     ...   \n",
      "5180        6816              Chicago, Rogers, Molino    825000  1281.0   \n",
      "2026        2586                   Chicago, Watertown    799000  1272.0   \n",
      "3788        4932                     New York, Wausau   2690000  1262.0   \n",
      "2349        3009                     New York, Wausau   2700000  1262.0   \n",
      "3777        4918                   Chicago, Deer Park    660000  1256.0   \n",
      "\n",
      "      Searches  Avg Price in Location  \n",
      "5533      77.0           1.744533e+06  \n",
      "1222      77.0           1.744533e+06  \n",
      "165     9004.0           1.961509e+06  \n",
      "173       32.0           1.341974e+06  \n",
      "914       32.0           1.341974e+06  \n",
      "...        ...                    ...  \n",
      "5180       0.0           8.250000e+05  \n",
      "2026       0.0           7.990000e+05  \n",
      "3788      19.0           1.764000e+06  \n",
      "2349      19.0           1.764000e+06  \n",
      "3777       0.0           6.600000e+05  \n",
      "\n",
      "[87 rows x 6 columns]\n"
     ]
    }
   ],
   "source": [
    "top_1000[\"Avg Price in Location\"] = top_1000.groupby(\"Location\")[\"Price\"].transform(\"mean\")\n",
    "\n",
    "rule_no_leads = top_1000[\"Leads\"] == 0\n",
    "rule_no_searches = top_1000[\"Searches\"] == 0\n",
    "rule_overpriced = top_1000[\"Price\"] > (top_1000[\"Avg Price in Location\"] * 1.5)\n",
    "\n",
    "top_1000[\"Should_Remove\"] = rule_no_leads | rule_no_searches | rule_overpriced\n",
    "\n",
    "to_remove = top_1000[top_1000[\"Should_Remove\"] == True]\n",
    "\n",
    "print(f\"\\nNumber of listings that should be removed: {to_remove.shape[0]}\")\n",
    "print(to_remove[[\"Listing iD\", \"Location\", \"Price\", \"Leads\", \"Searches\", \"Avg Price in Location\"]])\n"
   ]
  },
  {
   "cell_type": "markdown",
   "id": "cd0951c6",
   "metadata": {},
   "source": [
    "### Plot the Reasons for Removing Listings from Promotion"
   ]
  },
  {
   "cell_type": "code",
   "execution_count": 13,
   "id": "75b1cd0c",
   "metadata": {},
   "outputs": [
    {
     "data": {
      "image/png": "[encoded data removed]",
      "text/plain": [
       "<Figure size 576x360 with 1 Axes>"
      ]
     },
     "metadata": {
      "needs_background": "light"
     },
     "output_type": "display_data"
    }
   ],
   "source": [
    "# Count reasons\n",
    "remove_reasons = {\n",
    "    'No Leads': (top_1000['Leads'] == 0).sum(),\n",
    "    'No Searches': (top_1000['Searches'] == 0).sum(),\n",
    "    'Overpriced': (top_1000['Price'] > top_1000['Avg Price in Location'] * 1.5).sum()\n",
    "}\n",
    "\n",
    "plt.figure(figsize=(8,5))\n",
    "plt.bar(remove_reasons.keys(), remove_reasons.values(), color='salmon')\n",
    "plt.title('Reasons for Removing Listings from Promotion')\n",
    "plt.ylabel('Number of Listings')\n",
    "plt.show()"
   ]
  },
  {
   "cell_type": "code",
   "execution_count": null,
   "id": "d579f2aa",
   "metadata": {},
   "outputs": [],
   "source": []
  }
 ],
 "metadata": {
  "kernelspec": {
   "display_name": "Python 3 (ipykernel)",
   "language": "python",
   "name": "python3"
  },
  "language_info": {
   "codemirror_mode": {
    "name": "ipython",
    "version": 3
   },
   "file_extension": ".py",
   "mimetype": "text/x-python",
   "name": "python",
   "nbconvert_exporter": "python",
   "pygments_lexer": "ipython3",
   "version": "3.9.7"
  }
 },
 "nbformat": 4,
 "nbformat_minor": 5
}
